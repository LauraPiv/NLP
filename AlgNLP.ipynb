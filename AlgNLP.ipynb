{
  "nbformat": 4,
  "nbformat_minor": 0,
  "metadata": {
    "colab": {
      "provenance": [],
      "collapsed_sections": [
        "AFS5EyaqKiJ_",
        "8uS5DFwCKlsn",
        "CCF-4FxOOzmv",
        "5ffyFHiIQ1oG"
      ],
      "authorship_tag": "ABX9TyMEFrgm/AIaVr34lRfKuXgQ",
      "include_colab_link": true
    },
    "kernelspec": {
      "name": "python3",
      "display_name": "Python 3"
    },
    "language_info": {
      "name": "python"
    }
  },
  "cells": [
    {
      "cell_type": "markdown",
      "metadata": {
        "id": "view-in-github",
        "colab_type": "text"
      },
      "source": [
        "<a href=\"https://colab.research.google.com/github/LauraPiv/NLP/blob/main/AlgNLP.ipynb\" target=\"_parent\"><img src=\"https://colab.research.google.com/assets/colab-badge.svg\" alt=\"Open In Colab\"/></a>"
      ]
    },
    {
      "cell_type": "markdown",
      "source": [
        "#**Imports**"
      ],
      "metadata": {
        "id": "AFS5EyaqKiJ_"
      }
    },
    {
      "cell_type": "code",
      "execution_count": 1,
      "metadata": {
        "id": "ItA7DTyXKbt-"
      },
      "outputs": [],
      "source": [
        "import re #biblioteca regular expression\n",
        "import nltk #biblioteca natural language toolkit\n",
        "import string #biblioteca referencia strings"
      ]
    },
    {
      "cell_type": "markdown",
      "source": [
        "#**Pre processing**\n",
        "\n",
        "*   Identifica as palavras importantes dentro do texto"
      ],
      "metadata": {
        "id": "8uS5DFwCKlsn"
      }
    },
    {
      "cell_type": "code",
      "source": [
        "texto_original = \"\"\"A inteligência artificial é a inteligência similar à humana.\n",
        "                    Definem como o estudo de agente artificial com inteligência.\n",
        "                    Ciência e engenharia de produzir máquinas com inteligência.\n",
        "                    Resolver problemas e possuir inteligência.\n",
        "                    Relacionada ao comportamento inteligente.\n",
        "                    Construção de máquinas para raciocinar.\n",
        "                    Aprender com os erros e acertos.\n",
        "                    Inteligência artificial é raciocinar nas situações do cotidiano.\"\"\"\n",
        "\n",
        "texto_original"
      ],
      "metadata": {
        "colab": {
          "base_uri": "https://localhost:8080/",
          "height": 87
        },
        "id": "T776kwRdLs5M",
        "outputId": "44f6c24a-84da-4783-8f1b-17c0633fa51d"
      },
      "execution_count": 2,
      "outputs": [
        {
          "output_type": "execute_result",
          "data": {
            "text/plain": [
              "'A inteligência artificial é a inteligência similar à humana.\\n                    Definem como o estudo de agente artificial com inteligência.\\n                    Ciência e engenharia de produzir máquinas com inteligência.\\n                    Resolver problemas e possuir inteligência.\\n                    Relacionada ao comportamento inteligente.\\n                    Construção de máquinas para raciocinar.\\n                    Aprender com os erros e acertos.\\n                    Inteligência artificial é raciocinar nas situações do cotidiano.'"
            ],
            "application/vnd.google.colaboratory.intrinsic+json": {
              "type": "string"
            }
          },
          "metadata": {},
          "execution_count": 2
        }
      ]
    },
    {
      "cell_type": "code",
      "source": [
        "#substituir vários espaços branco por apenas um espaço\n",
        "texto_original = re.sub(r'\\s+', ' ', texto_original)\n",
        "texto_original"
      ],
      "metadata": {
        "colab": {
          "base_uri": "https://localhost:8080/",
          "height": 70
        },
        "id": "dW1-wRQjLxCz",
        "outputId": "ad3bb978-5ac0-4cd7-ab13-ddde41b5a866"
      },
      "execution_count": 4,
      "outputs": [
        {
          "output_type": "execute_result",
          "data": {
            "text/plain": [
              "'A inteligência artificial é a inteligência similar à humana. Definem como o estudo de agente artificial com inteligência. Ciência e engenharia de produzir máquinas com inteligência. Resolver problemas e possuir inteligência. Relacionada ao comportamento inteligente. Construção de máquinas para raciocinar. Aprender com os erros e acertos. Inteligência artificial é raciocinar nas situações do cotidiano.'"
            ],
            "application/vnd.google.colaboratory.intrinsic+json": {
              "type": "string"
            }
          },
          "metadata": {},
          "execution_count": 4
        }
      ]
    },
    {
      "cell_type": "code",
      "source": [
        "#serve para criar a tokenização do texto (quebrar o texto)\n",
        "nltk.download('punkt')\n",
        "nltk.download('punkt_tab')"
      ],
      "metadata": {
        "colab": {
          "base_uri": "https://localhost:8080/"
        },
        "id": "s5BGsv5LMfJ6",
        "outputId": "0ebb20d9-37ee-4f0f-d664-6f5ea4a974b9"
      },
      "execution_count": 5,
      "outputs": [
        {
          "output_type": "stream",
          "name": "stderr",
          "text": [
            "[nltk_data] Downloading package punkt to /root/nltk_data...\n",
            "[nltk_data]   Unzipping tokenizers/punkt.zip.\n",
            "[nltk_data] Downloading package punkt_tab to /root/nltk_data...\n",
            "[nltk_data]   Unzipping tokenizers/punkt_tab.zip.\n"
          ]
        },
        {
          "output_type": "execute_result",
          "data": {
            "text/plain": [
              "True"
            ]
          },
          "metadata": {},
          "execution_count": 5
        }
      ]
    },
    {
      "cell_type": "code",
      "source": [
        "#retira as palavras sem grande relevância dentro do texto\n",
        "nltk.download('stopwords')"
      ],
      "metadata": {
        "colab": {
          "base_uri": "https://localhost:8080/"
        },
        "id": "f0WswfaDM_y2",
        "outputId": "209dc64d-2613-4daf-b3d7-77d3952a5e30"
      },
      "execution_count": 6,
      "outputs": [
        {
          "output_type": "stream",
          "name": "stderr",
          "text": [
            "[nltk_data] Downloading package stopwords to /root/nltk_data...\n",
            "[nltk_data]   Unzipping corpora/stopwords.zip.\n"
          ]
        },
        {
          "output_type": "execute_result",
          "data": {
            "text/plain": [
              "True"
            ]
          },
          "metadata": {},
          "execution_count": 6
        }
      ]
    },
    {
      "cell_type": "code",
      "source": [
        "#mostra quais são as palavras sem grande relevância no texto\n",
        "print(stopwords)\n",
        "stopwords = nltk.corpus.stopwords.words('portuguese')\n",
        "len('stopwords')"
      ],
      "metadata": {
        "colab": {
          "base_uri": "https://localhost:8080/"
        },
        "id": "1OtmiXPLNEHe",
        "outputId": "13e9fe68-f274-4da1-90b2-46b91c803380"
      },
      "execution_count": 19,
      "outputs": [
        {
          "output_type": "stream",
          "name": "stdout",
          "text": [
            "['a', 'à', 'ao', 'aos', 'aquela', 'aquelas', 'aquele', 'aqueles', 'aquilo', 'as', 'às', 'até', 'com', 'como', 'da', 'das', 'de', 'dela', 'delas', 'dele', 'deles', 'depois', 'do', 'dos', 'e', 'é', 'ela', 'elas', 'ele', 'eles', 'em', 'entre', 'era', 'eram', 'éramos', 'essa', 'essas', 'esse', 'esses', 'esta', 'está', 'estamos', 'estão', 'estar', 'estas', 'estava', 'estavam', 'estávamos', 'este', 'esteja', 'estejam', 'estejamos', 'estes', 'esteve', 'estive', 'estivemos', 'estiver', 'estivera', 'estiveram', 'estivéramos', 'estiverem', 'estivermos', 'estivesse', 'estivessem', 'estivéssemos', 'estou', 'eu', 'foi', 'fomos', 'for', 'fora', 'foram', 'fôramos', 'forem', 'formos', 'fosse', 'fossem', 'fôssemos', 'fui', 'há', 'haja', 'hajam', 'hajamos', 'hão', 'havemos', 'haver', 'hei', 'houve', 'houvemos', 'houver', 'houvera', 'houverá', 'houveram', 'houvéramos', 'houverão', 'houverei', 'houverem', 'houveremos', 'houveria', 'houveriam', 'houveríamos', 'houvermos', 'houvesse', 'houvessem', 'houvéssemos', 'isso', 'isto', 'já', 'lhe', 'lhes', 'mais', 'mas', 'me', 'mesmo', 'meu', 'meus', 'minha', 'minhas', 'muito', 'na', 'não', 'nas', 'nem', 'no', 'nos', 'nós', 'nossa', 'nossas', 'nosso', 'nossos', 'num', 'numa', 'o', 'os', 'ou', 'para', 'pela', 'pelas', 'pelo', 'pelos', 'por', 'qual', 'quando', 'que', 'quem', 'são', 'se', 'seja', 'sejam', 'sejamos', 'sem', 'ser', 'será', 'serão', 'serei', 'seremos', 'seria', 'seriam', 'seríamos', 'seu', 'seus', 'só', 'somos', 'sou', 'sua', 'suas', 'também', 'te', 'tem', 'tém', 'temos', 'tenha', 'tenham', 'tenhamos', 'tenho', 'terá', 'terão', 'terei', 'teremos', 'teria', 'teriam', 'teríamos', 'teu', 'teus', 'teve', 'tinha', 'tinham', 'tínhamos', 'tive', 'tivemos', 'tiver', 'tivera', 'tiveram', 'tivéramos', 'tiverem', 'tivermos', 'tivesse', 'tivessem', 'tivéssemos', 'tu', 'tua', 'tuas', 'um', 'uma', 'você', 'vocês', 'vos']\n"
          ]
        },
        {
          "output_type": "execute_result",
          "data": {
            "text/plain": [
              "9"
            ]
          },
          "metadata": {},
          "execution_count": 19
        }
      ]
    },
    {
      "cell_type": "code",
      "source": [
        "#mostra a lista de caracteres especiais e pontuação que devem ser retiradas do texto\n",
        "string.punctuation"
      ],
      "metadata": {
        "colab": {
          "base_uri": "https://localhost:8080/",
          "height": 35
        },
        "id": "F-ioM4dcNWKb",
        "outputId": "76f99f4d-3ac3-4837-aaa6-71042477dfd3"
      },
      "execution_count": 11,
      "outputs": [
        {
          "output_type": "execute_result",
          "data": {
            "text/plain": [
              "'!\"#$%&\\'()*+,-./:;<=>?@[\\\\]^_`{|}~'"
            ],
            "application/vnd.google.colaboratory.intrinsic+json": {
              "type": "string"
            }
          },
          "metadata": {},
          "execution_count": 11
        }
      ]
    },
    {
      "cell_type": "code",
      "source": [
        "#cria a função pré processamento que irá buscar cada palavra no texto criando tokens retirando stopwords e pontuação\n",
        "\n",
        "def preprocessamento(texto):\n",
        "  texto_formatado = texto.lower()\n",
        "  tokens = []\n",
        "  for token in nltk.word_tokenize(texto_formatado):\n",
        "    tokens.append(token)\n",
        "    tokens = [palavra for palavra in tokens if palavra not in stopwords and palavra not in string.punctuation]\n",
        "    texto_formatado = ' '.join([str(elemento) for elemento in tokens if not elemento.isdigit()])\n",
        "\n",
        "  return texto_formatado"
      ],
      "metadata": {
        "id": "SSGgTVerOc8z"
      },
      "execution_count": 15,
      "outputs": []
    },
    {
      "cell_type": "code",
      "source": [
        "texto_formatado = preprocessamento(texto_original)\n",
        "texto_formatado"
      ],
      "metadata": {
        "colab": {
          "base_uri": "https://localhost:8080/",
          "height": 70
        },
        "id": "MNlzOxTVOe6j",
        "outputId": "ed2080d5-9f6b-4553-b7e1-cdcd0900c66e"
      },
      "execution_count": 16,
      "outputs": [
        {
          "output_type": "execute_result",
          "data": {
            "text/plain": [
              "'inteligência artificial inteligência similar humana definem estudo agente artificial inteligência ciência engenharia produzir máquinas inteligência resolver problemas possuir inteligência relacionada comportamento inteligente construção máquinas raciocinar aprender erros acertos inteligência artificial raciocinar situações cotidiano'"
            ],
            "application/vnd.google.colaboratory.intrinsic+json": {
              "type": "string"
            }
          },
          "metadata": {},
          "execution_count": 16
        }
      ]
    },
    {
      "cell_type": "markdown",
      "source": [
        "#**Frequência de ocorrência das palavras**"
      ],
      "metadata": {
        "id": "CCF-4FxOOzmv"
      }
    },
    {
      "cell_type": "code",
      "source": [
        "#calcula a frequencia de cada palavra no texto\n",
        "frequencia_palavras = nltk.FreqDist(nltk.word_tokenize(texto_formatado))\n",
        "frequencia_palavras"
      ],
      "metadata": {
        "colab": {
          "base_uri": "https://localhost:8080/"
        },
        "id": "J4-fw59BO3RX",
        "outputId": "56534852-8a82-4e26-9d48-f59d251b9bf0"
      },
      "execution_count": 17,
      "outputs": [
        {
          "output_type": "execute_result",
          "data": {
            "text/plain": [
              "FreqDist({'inteligência': 6, 'artificial': 3, 'máquinas': 2, 'raciocinar': 2, 'similar': 1, 'humana': 1, 'definem': 1, 'estudo': 1, 'agente': 1, 'ciência': 1, ...})"
            ]
          },
          "metadata": {},
          "execution_count": 17
        }
      ]
    },
    {
      "cell_type": "code",
      "source": [
        "frequencia_palavras['máquinas']"
      ],
      "metadata": {
        "colab": {
          "base_uri": "https://localhost:8080/"
        },
        "id": "R4k8a2FgPTMS",
        "outputId": "640a9bee-e598-4cb6-e47e-50d34cfaa329"
      },
      "execution_count": 18,
      "outputs": [
        {
          "output_type": "execute_result",
          "data": {
            "text/plain": [
              "2"
            ]
          },
          "metadata": {},
          "execution_count": 18
        }
      ]
    },
    {
      "cell_type": "code",
      "source": [
        "frequencia_palavras.keys()"
      ],
      "metadata": {
        "colab": {
          "base_uri": "https://localhost:8080/"
        },
        "id": "TWheo7r_QDtB",
        "outputId": "81b370a0-068a-44f5-b311-2dd6ce18ab77"
      },
      "execution_count": 20,
      "outputs": [
        {
          "output_type": "execute_result",
          "data": {
            "text/plain": [
              "dict_keys(['inteligência', 'artificial', 'similar', 'humana', 'definem', 'estudo', 'agente', 'ciência', 'engenharia', 'produzir', 'máquinas', 'resolver', 'problemas', 'possuir', 'relacionada', 'comportamento', 'inteligente', 'construção', 'raciocinar', 'aprender', 'erros', 'acertos', 'situações', 'cotidiano'])"
            ]
          },
          "metadata": {},
          "execution_count": 20
        }
      ]
    },
    {
      "cell_type": "code",
      "source": [
        "frequencia_maxima = max(frequencia_palavras.values())\n",
        "frequencia_maxima"
      ],
      "metadata": {
        "colab": {
          "base_uri": "https://localhost:8080/"
        },
        "id": "AHjB0AwnQD0Z",
        "outputId": "f2e00967-abc6-48f4-fc01-d16aa80e7bb7"
      },
      "execution_count": 21,
      "outputs": [
        {
          "output_type": "execute_result",
          "data": {
            "text/plain": [
              "6"
            ]
          },
          "metadata": {},
          "execution_count": 21
        }
      ]
    },
    {
      "cell_type": "code",
      "source": [
        "for palavra in frequencia_palavras.keys():\n",
        "  frequencia_palavras[palavra] = (frequencia_palavras[palavra] / frequencia_maxima)"
      ],
      "metadata": {
        "id": "P2j8UDjJQD6R"
      },
      "execution_count": 23,
      "outputs": []
    },
    {
      "cell_type": "markdown",
      "source": [
        "#**Cria sentenças de maior importância e Resumo**"
      ],
      "metadata": {
        "id": "5ffyFHiIQ1oG"
      }
    },
    {
      "cell_type": "code",
      "source": [
        "lista_sentencas = nltk.sent_tokenize(texto_original)\n",
        "lista_sentencas"
      ],
      "metadata": {
        "colab": {
          "base_uri": "https://localhost:8080/"
        },
        "id": "Vg2GZ6xlQgYN",
        "outputId": "59a5d42b-0500-4c17-c20a-de47bacb3ece"
      },
      "execution_count": 24,
      "outputs": [
        {
          "output_type": "execute_result",
          "data": {
            "text/plain": [
              "['A inteligência artificial é a inteligência similar à humana.',\n",
              " 'Definem como o estudo de agente artificial com inteligência.',\n",
              " 'Ciência e engenharia de produzir máquinas com inteligência.',\n",
              " 'Resolver problemas e possuir inteligência.',\n",
              " 'Relacionada ao comportamento inteligente.',\n",
              " 'Construção de máquinas para raciocinar.',\n",
              " 'Aprender com os erros e acertos.',\n",
              " 'Inteligência artificial é raciocinar nas situações do cotidiano.']"
            ]
          },
          "metadata": {},
          "execution_count": 24
        }
      ]
    },
    {
      "cell_type": "code",
      "source": [
        "nota_sentencas = {}\n",
        "for sentenca in lista_sentencas:\n",
        "  #print(sentenca)\n",
        "  for palavra in nltk.word_tokenize(sentenca.lower()):\n",
        "    #print(palavra)\n",
        "    if palavra in frequencia_palavras.keys():\n",
        "      if sentenca not in nota_sentencas.keys():\n",
        "        nota_sentencas[sentenca] = frequencia_palavras[palavra]\n",
        "      else:\n",
        "        nota_sentencas[sentenca] += frequencia_palavras[palavra]"
      ],
      "metadata": {
        "id": "hzuJlqX4Qyom"
      },
      "execution_count": 25,
      "outputs": []
    },
    {
      "cell_type": "code",
      "source": [
        "nota_sentencas"
      ],
      "metadata": {
        "colab": {
          "base_uri": "https://localhost:8080/"
        },
        "id": "PtaEK_TrR6cO",
        "outputId": "7aff247c-22d1-41fd-f2d0-ec1d5e4345c1"
      },
      "execution_count": 26,
      "outputs": [
        {
          "output_type": "execute_result",
          "data": {
            "text/plain": [
              "{'A inteligência artificial é a inteligência similar à humana.': 0.4722222222222222,\n",
              " 'Definem como o estudo de agente artificial com inteligência.': 0.3333333333333333,\n",
              " 'Ciência e engenharia de produzir máquinas com inteligência.': 0.3055555555555556,\n",
              " 'Resolver problemas e possuir inteligência.': 0.25,\n",
              " 'Relacionada ao comportamento inteligente.': 0.08333333333333333,\n",
              " 'Construção de máquinas para raciocinar.': 0.1388888888888889,\n",
              " 'Aprender com os erros e acertos.': 0.08333333333333333,\n",
              " 'Inteligência artificial é raciocinar nas situações do cotidiano.': 0.36111111111111116}"
            ]
          },
          "metadata": {},
          "execution_count": 26
        }
      ]
    },
    {
      "cell_type": "code",
      "source": [
        "import heapq\n",
        "melhores_sentencas = heapq.nlargest(3, nota_sentencas, key=nota_sentencas.get)"
      ],
      "metadata": {
        "id": "WkZpGpk4RLwB"
      },
      "execution_count": 27,
      "outputs": []
    },
    {
      "cell_type": "code",
      "source": [
        "resumo = ' '.join(melhores_sentencas)\n",
        "resumo"
      ],
      "metadata": {
        "colab": {
          "base_uri": "https://localhost:8080/",
          "height": 53
        },
        "id": "pylMoEIRSASu",
        "outputId": "373f5957-622a-4074-c2e4-f14f25f1d189"
      },
      "execution_count": 28,
      "outputs": [
        {
          "output_type": "execute_result",
          "data": {
            "text/plain": [
              "'A inteligência artificial é a inteligência similar à humana. Inteligência artificial é raciocinar nas situações do cotidiano. Definem como o estudo de agente artificial com inteligência.'"
            ],
            "application/vnd.google.colaboratory.intrinsic+json": {
              "type": "string"
            }
          },
          "metadata": {},
          "execution_count": 28
        }
      ]
    },
    {
      "cell_type": "code",
      "source": [
        "texto_original"
      ],
      "metadata": {
        "colab": {
          "base_uri": "https://localhost:8080/",
          "height": 70
        },
        "id": "1Ai2bOuxSB4u",
        "outputId": "349ac5df-dbef-4402-974d-2aa31e8f88f5"
      },
      "execution_count": 30,
      "outputs": [
        {
          "output_type": "execute_result",
          "data": {
            "text/plain": [
              "'A inteligência artificial é a inteligência similar à humana. Definem como o estudo de agente artificial com inteligência. Ciência e engenharia de produzir máquinas com inteligência. Resolver problemas e possuir inteligência. Relacionada ao comportamento inteligente. Construção de máquinas para raciocinar. Aprender com os erros e acertos. Inteligência artificial é raciocinar nas situações do cotidiano.'"
            ],
            "application/vnd.google.colaboratory.intrinsic+json": {
              "type": "string"
            }
          },
          "metadata": {},
          "execution_count": 30
        }
      ]
    },
    {
      "cell_type": "code",
      "source": [
        "from IPython.core.display import HTML\n",
        "texto = ''\n",
        "\n",
        "display(HTML(f'<h1>Resumo do texto</h1>'))\n",
        "for sentenca in lista_sentencas:\n",
        "  #texto += sentenca\n",
        "  if sentenca in melhores_sentencas:\n",
        "    texto += str(sentenca).replace(sentenca, f\"<mark>{sentenca}</mark>\")\n",
        "  else:\n",
        "    texto += sentenca\n",
        "display(HTML(f\"\"\"{texto}\"\"\"))"
      ],
      "metadata": {
        "colab": {
          "base_uri": "https://localhost:8080/",
          "height": 109
        },
        "id": "M6QTuvZ7SHpw",
        "outputId": "59198a18-ce23-460f-b81e-0b37e64b6b3e"
      },
      "execution_count": 29,
      "outputs": [
        {
          "output_type": "display_data",
          "data": {
            "text/plain": [
              "<IPython.core.display.HTML object>"
            ],
            "text/html": [
              "<h1>Resumo do texto</h1>"
            ]
          },
          "metadata": {}
        },
        {
          "output_type": "display_data",
          "data": {
            "text/plain": [
              "<IPython.core.display.HTML object>"
            ],
            "text/html": [
              "<mark>A inteligência artificial é a inteligência similar à humana.</mark><mark>Definem como o estudo de agente artificial com inteligência.</mark>Ciência e engenharia de produzir máquinas com inteligência.Resolver problemas e possuir inteligência.Relacionada ao comportamento inteligente.Construção de máquinas para raciocinar.Aprender com os erros e acertos.<mark>Inteligência artificial é raciocinar nas situações do cotidiano.</mark>"
            ]
          },
          "metadata": {}
        }
      ]
    },
    {
      "cell_type": "markdown",
      "source": [
        "#**Artigos**"
      ],
      "metadata": {
        "id": "f1eA1WONTMNe"
      }
    },
    {
      "cell_type": "code",
      "source": [
        "!pip install goose3"
      ],
      "metadata": {
        "colab": {
          "base_uri": "https://localhost:8080/"
        },
        "id": "b-VyDltsSxDD",
        "outputId": "7ed55ccf-54c0-4787-b5f6-d45262c51603"
      },
      "execution_count": 31,
      "outputs": [
        {
          "output_type": "stream",
          "name": "stdout",
          "text": [
            "Collecting goose3\n",
            "  Downloading goose3-3.1.19-py3-none-any.whl.metadata (11 kB)\n",
            "Requirement already satisfied: requests in /usr/local/lib/python3.11/dist-packages (from goose3) (2.32.3)\n",
            "Requirement already satisfied: Pillow in /usr/local/lib/python3.11/dist-packages (from goose3) (11.1.0)\n",
            "Requirement already satisfied: lxml in /usr/local/lib/python3.11/dist-packages (from goose3) (5.3.1)\n",
            "Collecting cssselect (from goose3)\n",
            "  Downloading cssselect-1.2.0-py2.py3-none-any.whl.metadata (2.2 kB)\n",
            "Requirement already satisfied: beautifulsoup4 in /usr/local/lib/python3.11/dist-packages (from goose3) (4.13.3)\n",
            "Requirement already satisfied: python-dateutil in /usr/local/lib/python3.11/dist-packages (from goose3) (2.8.2)\n",
            "Collecting langdetect (from goose3)\n",
            "  Downloading langdetect-1.0.9.tar.gz (981 kB)\n",
            "\u001b[2K     \u001b[90m━━━━━━━━━━━━━━━━━━━━━━━━━━━━━━━━━━━━━━━━\u001b[0m \u001b[32m981.5/981.5 kB\u001b[0m \u001b[31m26.8 MB/s\u001b[0m eta \u001b[36m0:00:00\u001b[0m\n",
            "\u001b[?25h  Preparing metadata (setup.py) ... \u001b[?25l\u001b[?25hdone\n",
            "Collecting pyahocorasick (from goose3)\n",
            "  Downloading pyahocorasick-2.1.0-cp311-cp311-manylinux_2_17_x86_64.manylinux2014_x86_64.whl.metadata (13 kB)\n",
            "Requirement already satisfied: soupsieve>1.2 in /usr/local/lib/python3.11/dist-packages (from beautifulsoup4->goose3) (2.6)\n",
            "Requirement already satisfied: typing-extensions>=4.0.0 in /usr/local/lib/python3.11/dist-packages (from beautifulsoup4->goose3) (4.12.2)\n",
            "Requirement already satisfied: six in /usr/local/lib/python3.11/dist-packages (from langdetect->goose3) (1.17.0)\n",
            "Requirement already satisfied: charset-normalizer<4,>=2 in /usr/local/lib/python3.11/dist-packages (from requests->goose3) (3.4.1)\n",
            "Requirement already satisfied: idna<4,>=2.5 in /usr/local/lib/python3.11/dist-packages (from requests->goose3) (3.10)\n",
            "Requirement already satisfied: urllib3<3,>=1.21.1 in /usr/local/lib/python3.11/dist-packages (from requests->goose3) (2.3.0)\n",
            "Requirement already satisfied: certifi>=2017.4.17 in /usr/local/lib/python3.11/dist-packages (from requests->goose3) (2025.1.31)\n",
            "Downloading goose3-3.1.19-py3-none-any.whl (113 kB)\n",
            "\u001b[2K   \u001b[90m━━━━━━━━━━━━━━━━━━━━━━━━━━━━━━━━━━━━━━━━\u001b[0m \u001b[32m113.4/113.4 kB\u001b[0m \u001b[31m6.7 MB/s\u001b[0m eta \u001b[36m0:00:00\u001b[0m\n",
            "\u001b[?25hDownloading cssselect-1.2.0-py2.py3-none-any.whl (18 kB)\n",
            "Downloading pyahocorasick-2.1.0-cp311-cp311-manylinux_2_17_x86_64.manylinux2014_x86_64.whl (118 kB)\n",
            "\u001b[2K   \u001b[90m━━━━━━━━━━━━━━━━━━━━━━━━━━━━━━━━━━━━━━━━\u001b[0m \u001b[32m118.3/118.3 kB\u001b[0m \u001b[31m8.0 MB/s\u001b[0m eta \u001b[36m0:00:00\u001b[0m\n",
            "\u001b[?25hBuilding wheels for collected packages: langdetect\n",
            "  Building wheel for langdetect (setup.py) ... \u001b[?25l\u001b[?25hdone\n",
            "  Created wheel for langdetect: filename=langdetect-1.0.9-py3-none-any.whl size=993222 sha256=e7e352041788bd67055a2968a83be8c801923554d1f6c061861000dbc1210b56\n",
            "  Stored in directory: /root/.cache/pip/wheels/0a/f2/b2/e5ca405801e05eb7c8ed5b3b4bcf1fcabcd6272c167640072e\n",
            "Successfully built langdetect\n",
            "Installing collected packages: pyahocorasick, langdetect, cssselect, goose3\n",
            "Successfully installed cssselect-1.2.0 goose3-3.1.19 langdetect-1.0.9 pyahocorasick-2.1.0\n"
          ]
        }
      ]
    },
    {
      "cell_type": "code",
      "source": [
        "from goose3 import Goose"
      ],
      "metadata": {
        "id": "xLjCLQcsSzH8"
      },
      "execution_count": 32,
      "outputs": []
    },
    {
      "cell_type": "code",
      "source": [
        "g = Goose()\n",
        "url='https://www.ibm.com/br-pt/topics/knn'\n",
        "artigo = g.extract(url)"
      ],
      "metadata": {
        "id": "yxBi7BQ9S1MW"
      },
      "execution_count": 33,
      "outputs": []
    },
    {
      "cell_type": "code",
      "source": [
        "artigo.infos"
      ],
      "metadata": {
        "id": "tL0qkdayS3PE"
      },
      "execution_count": null,
      "outputs": []
    },
    {
      "cell_type": "code",
      "source": [
        "artigo.title"
      ],
      "metadata": {
        "colab": {
          "base_uri": "https://localhost:8080/",
          "height": 35
        },
        "id": "uY25eE9gS7qk",
        "outputId": "8ac6e3b7-f93e-49b7-b62b-010b9e200f8c"
      },
      "execution_count": 35,
      "outputs": [
        {
          "output_type": "execute_result",
          "data": {
            "text/plain": [
              "'O que é o algoritmo dos k vizinhos mais próximos? | IBM'"
            ],
            "application/vnd.google.colaboratory.intrinsic+json": {
              "type": "string"
            }
          },
          "metadata": {},
          "execution_count": 35
        }
      ]
    },
    {
      "cell_type": "code",
      "source": [
        "artigo.links"
      ],
      "metadata": {
        "colab": {
          "base_uri": "https://localhost:8080/"
        },
        "id": "Ezs2TqbGS9J8",
        "outputId": "0e7dccec-dd19-4dfd-b8f6-01facbed07fd"
      },
      "execution_count": 36,
      "outputs": [
        {
          "output_type": "execute_result",
          "data": {
            "text/plain": [
              "['https://sebastianraschka.com/pdf/lecture-notes/stat479fs18/02_knn_notes.pdf',\n",
              " 'https://apps.dtic.mil/sti/pdfs/ADA800276.pdf',\n",
              " 'https://isl.stanford.edu/~cover/papers/transIT/0021cove.pdf',\n",
              " 'https://developer.ibm.com/tutorials/learn-classification-algorithms-using-python-and-scikit-learn/',\n",
              " 'https://www.researchgate.net/publication/267572060_Automated_Web_Usage_Data_Mining_and_Recommendation_System_using_K-Nearest_Neighbor_KNN_Classification_Method',\n",
              " 'https://iopscience.iop.org/article/10.1088/1742-6596/1025/1/012114/pdf',\n",
              " 'https://www.ijera.com/papers/Vol3_issue5/DI35605610.pdf',\n",
              " 'https://www.ibm.com/br-pt/consulting/analytics',\n",
              " 'https://www.researchgate.net/profile/D-Adu-Gyamfi/publication/332880911_Improved_Handwritten_Digit_Recognition_using_Quantum_K-Nearest_Neighbor_Algorithm/links/5d77dca692851cacdb30c14d/Improved-Handwritten-Digit-Recognition-using-Quantum-K-Nearest-Neighbor-Algorithm.pdf']"
            ]
          },
          "metadata": {},
          "execution_count": 36
        }
      ]
    },
    {
      "cell_type": "code",
      "source": [
        "artigo.cleaned_text"
      ],
      "metadata": {
        "colab": {
          "base_uri": "https://localhost:8080/",
          "height": 140
        },
        "id": "8MsIOgumTCFW",
        "outputId": "aab3a4c0-039b-4867-f8c2-f54643fd3fff"
      },
      "execution_count": 37,
      "outputs": [
        {
          "output_type": "execute_result",
          "data": {
            "text/plain": [
              "'O que é o algoritmo KNN? O algoritmo k-nearest neighbors (KNN), ou k vizinhos mais próximos, é um classificador supervisionado não paramétrico, que usa proximidade para fazer classificações ou previsões sobre o agrupamento de um ponto de dados individual. É um dos classificadores mais populares e simples usados em aprendizado de máquina atualmente. Embora o algoritmo KNN possa ser usado para problemas de regressão ou classificação, ele é tipicamente utilizado como um algoritmo de classificação, partindo do pressuposto de que pontos semelhantes podem ser encontrados próximos uns dos outros. \\n\\n Para problemas de classificação, um rótulo de classe é atribuído com base em uma votação majoritária. Ou seja, o rótulo mais frequentemente representado em torno de um dado ponto de dados é utilizado. Embora isso seja tecnicamente considerado uma \"votação por pluralidade\", o termo \"voto majoritário\" é mais amplamente usado na literatura. A distinção entre esses termos é que \"votação majoritária\" tecnicamente requer uma maioria de mais de 50%, o que funciona principalmente quando há apenas duas categorias. Quando você tem várias classes, por exemplo, quatro categorias, você não precisa necessariamente de 50% dos votos para fazer uma conclusão sobre uma classe; você poderia atribuir um rótulo de classe com mais de 25% de votos. A Universidade de Wisconsin-Madison resume isso bem com um exemplo aqui (link fora de ibm.com). Problemas de regressão usam um conceito semelhante ao problema de classificação, mas nesse caso, a média dos k vizinhos mais próximos é usada para fazer uma previsão sobre uma classificação. A principal distinção aqui é que a classificação é usada para valores discretos, enquanto a regressão é usada com valores contínuos. No entanto, antes que uma classificação possa ser feita, a distância precisa ser definida. A distância euclidiana é a mais comumente utilizada, sobre a qual vamos nos aprofundar mais abaixo.\\n\\n Também vale a pena notar que o algoritmo KNN faz parte de uma família de modelos de \"aprendizado preguiçoso\", o que significa que ele apenas armazena um conjunto de dados de treinamento, sem passar por uma fase de treinamento. Isso também significa que toda a computação ocorre quando uma classificação ou previsão está sendo feita. Como ele depende muito da memória para armazenar todos os seus dados de treinamento, também é referido como um método de aprendizado baseado em instância ou aprendizado baseado em memória.\\n\\n Evelyn Fix e Joseph Hodges são creditados pelas ideias iniciais em torno do modelo KNN neste artigo de 1951 (link fora de ibm.com), enquanto Thomas Cover expande esse conceito em sua pesquisa (link fora de ibm.com), \"Nearest Neighbor Pattern Classification\". Embora não seja tão popular quanto já foi, ainda é um dos primeiros algoritmos que se aprende em ciência de dados devido à sua simplicidade e precisão. No entanto, à medida que um conjunto de dados cresce, o KNN se torna cada vez mais ineficiente, comprometendo o desempenho geral do modelo. É comumente utilizado para sistemas de recomendação simples, reconhecimento de padrões, mineração de dados, previsões do mercado financeiro, detecção de intrusões e muito mais. Crie fluxos de trabalho de IA responsáveis com controle de IA Aprenda os fundamentos e as melhores práticas para ajudar suas equipes a acelerar a IA responsável. Registre-se para o white paper sobre governança de IA\\n\\nRecapitulando, o objetivo do algoritmo k-nearest neighbors (KNN) é identificar os vizinhos mais próximos de um determinado ponto de consulta, para que possamos atribuir uma classe a esse ponto. Para fazer isso, o KNN tem alguns requisitos: Para determinar quais pontos de dados estão mais próximos de um ponto de consulta específico, é necessário calcular a distância entre o ponto de consulta e os outros pontos de dados. Essas métricas de distância ajudam a formar limites de decisão, que particionam pontos de consulta em diferentes regiões. É comum visualizar esses limites de decisão com diagramas de Voronoi.\\n\\n \\n\\n Embora existam várias medidas de distância que você pode escolher, este artigo abordará apenas as seguintes: Distância Euclidiana (p=2): esta é a medida de distância mais comumente utilizada, sendo limitada a vetores com valores reais. Usando a fórmula abaixo, ela mede uma linha reta entre o ponto de consulta e o outro ponto sendo medido. Distância de Manhattan (p=1): esta é outra métrica de distância popular, que mede o valor absoluto entre dois pontos. Também é chamada de distância de táxi ou distância de quarteirão, pois geralmente é visualizada com uma grade, ilustrando como alguém poderia navegar de um endereço a outro pelas ruas da cidade. Distância de Minkowski: esta métrica de distância é a forma generalizada das métricas de distância euclidiana e de Manhattan. O parâmetro p, na fórmula abaixo, permite a criação de outras métricas de distância. A distância Euclidiana é representada por esta fórmula quando p é igual a dois, e a distância de Manhattan é denotada com p igual a um. Distância de Hamming: esta técnica é normalmente usada com vetores booleanos ou de strings, identificando os pontos onde os vetores não correspondem. Como resultado, também é conhecida como métrica de sobreposição. Isso pode ser representado com a seguinte fórmula: Por exemplo, se você tiver as seguintes strings, a distância de Hamming seria 2, já que apenas dois dos valores são diferentes.\\n\\nO valor de k no algoritmo k-NN define quantos vizinhos serão verificados para determinar a classificação de um ponto de consulta específico. Por exemplo, se k=1, a instância será atribuída à mesma classe que seu vizinho mais próximo. Definir k pode ser um ato de equilíbrio, pois diferentes valores podem levar a overfitting ou underfitting. Valores mais baixos de k podem ter alta variância, mas baixa tendência, e valores maiores de k podem levar a alta tendência e menor variância. A escolha de k dependerá amplamente dos dados de input, já que dados com mais outliers ou ruído provavelmente terão melhor desempenho com valores mais altos de k. No geral, recomenda-se um número ímpar para k, a fim de evitar empates na classificação, e táticas de validação cruzada podem ajudar a escolher o k ideal para seu conjunto de dados. Para se aprofundar, você pode aprender mais sobre o algoritmo k-NN usando Python e scikit-learn (também conhecido como sklearn). Nosso tutorial no Watson Studio ajuda você a aprender a sintaxe básica desta biblioteca, que também contém outras bibliotecas populares, como NumPy, pandas e Matplotlib. O código a seguir é um exemplo de como criar e prever com um modelo KNN:\\n\\nAplicações do K-NN em aprendizado de máquina O algoritmo k-NN tem sido utilizado em uma variedade de aplicações, principalmente dentro da classificação. Alguns desses casos de uso incluem: - Pré-processamento de dados: conjuntos de dados frequentemente têm valores ausentes, mas o algoritmo KNN pode estimar esses valores em um processo conhecido como imputação de dados ausentes. - Mecanismos de recomendação: usando dados de cliques de sites, o algoritmo KNN tem sido utilizado para fornecer recomendações automáticas aos usuários sobre conteúdo adicional. Esta pesquisa (link fora de ibm.com) mostra que o usuário é atribuído a um grupo específico e, com base no comportamento desse grupo, ele recebe uma recomendação. No entanto, dadas as questões de escalabilidade com o KNN, essa abordagem pode não ser ideal para grandes conjuntos de dados. - Finanças: o KNN também foi utilizado em uma variedade de casos de uso no setor financeiro e econômico. Por exemplo, um artigo (link fora de ibm.com) mostra como o uso de KNN em dados de crédito pode ajudar os bancos a avaliar o risco de um empréstimo para uma organização ou indivíduo. É utilizado para determinar a confiabilidade de crédito de um solicitante de empréstimo. Outro periódico (link fora de ibm.com) destaca seu uso na previsão do mercado de ações, taxas de câmbio, negociações de futuros e análises de lavagem de dinheiro. - Saúde: o KNN também teve aplicação no setor de saúde, fazendo previsões sobre o risco de ataques cardíacos e câncer de próstata. O algoritmo funciona calculando as expressões gênicas mais prováveis. - Reconhecimento de padrões: o KNN também ajudou a identificar padrões, como na classificação de texto e classificação de dígitos (link fora de ibm.com). Isso tem sido particularmente útil para identificar números manuscritos que você pode encontrar em formulários ou envelopes de correspondência.\\n\\nAssim como qualquer algoritmo de aprendizado de máquina, o k-NN tem seus pontos fortes e fracos. Dependendo do projeto e da aplicação, ele pode ou não ser a escolha certa. - Fácil de implementar: dada a simplicidade e precisão do algoritmo, ele é um dos primeiros classificadores que um novo cientista de dados aprenderá.\\n\\n - Adapta-se facilmente: à medida que novas amostras de treinamento são adicionadas, o algoritmo se ajusta para incluir os novos dados, uma vez que todos os dados de treinamento são armazenados na memória. - Poucos hiperparâmetros: o KNN requer apenas um valor de k e uma métrica de distância, o que é baixo em comparação com outros algoritmos de aprendizado de máquina. - Não escala bem: como o KNN é um algoritmo preguiçoso, ele consome mais memória e armazenamento de dados em comparação com outros classificadores. Isso pode ser caro do ponto de vista de tempo e dinheiro. Mais memória e armazenamento aumentam as despesas de negócios e mais dados podem demorar mais para serem processados. Embora diferentes estruturas de dados, como Ball-Tree, tenham sido criadas para resolver as ineficiências computacionais, um classificador diferente pode ser mais ideal, dependendo do problema de negócios. - Maldição da dimensionalidade: o algoritmo KNN tende a ser vítima da maldição da dimensionalidade, o que significa que ele não tem um bom desempenho com inputs de dados de alta dimensionalidade. Isso às vezes também é chamado de fenômeno de pico, onde, após o algoritmo atingir o número ideal de funcionalidades, a adição de mais delas aumenta a quantidade de erros de classificação, especialmente quando o tamanho da amostra é menor. - Propensão ao overfitting: devido à \"maldição da dimensionalidade\", o KNN também possui mais propensão ao overfitting. Enquanto técnicas de seleção de características e redução de dimensionalidade são utilizadas para evitar que isso ocorra, o valor de k também pode impactar o comportamento do modelo. Valores menores de k podem causar overfitting nos dados, enquanto valores maiores de k tendem a \"suavizar\" os valores de previsão, uma vez que trata-se da média dos valores em uma área maior, ou vizinhança. No entanto, se o valor de k for muito alto, pode ocorrer underfitting nos dados.'"
            ],
            "application/vnd.google.colaboratory.intrinsic+json": {
              "type": "string"
            }
          },
          "metadata": {},
          "execution_count": 37
        }
      ]
    },
    {
      "cell_type": "code",
      "source": [
        "len(artigo.cleaned_text)"
      ],
      "metadata": {
        "colab": {
          "base_uri": "https://localhost:8080/"
        },
        "id": "9G4OqvWtTVqv",
        "outputId": "8e830acf-61ca-47d8-9e34-13130f6f04cb"
      },
      "execution_count": 38,
      "outputs": [
        {
          "output_type": "execute_result",
          "data": {
            "text/plain": [
              "10775"
            ]
          },
          "metadata": {},
          "execution_count": 38
        }
      ]
    },
    {
      "cell_type": "code",
      "source": [
        "artigo_original = artigo.cleaned_text\n",
        "artigo_original"
      ],
      "metadata": {
        "colab": {
          "base_uri": "https://localhost:8080/",
          "height": 140
        },
        "id": "gqaAL9hXTekQ",
        "outputId": "32c76aff-f09e-4467-f430-844b5b070be5"
      },
      "execution_count": 39,
      "outputs": [
        {
          "output_type": "execute_result",
          "data": {
            "text/plain": [
              "'O que é o algoritmo KNN? O algoritmo k-nearest neighbors (KNN), ou k vizinhos mais próximos, é um classificador supervisionado não paramétrico, que usa proximidade para fazer classificações ou previsões sobre o agrupamento de um ponto de dados individual. É um dos classificadores mais populares e simples usados em aprendizado de máquina atualmente. Embora o algoritmo KNN possa ser usado para problemas de regressão ou classificação, ele é tipicamente utilizado como um algoritmo de classificação, partindo do pressuposto de que pontos semelhantes podem ser encontrados próximos uns dos outros. \\n\\n Para problemas de classificação, um rótulo de classe é atribuído com base em uma votação majoritária. Ou seja, o rótulo mais frequentemente representado em torno de um dado ponto de dados é utilizado. Embora isso seja tecnicamente considerado uma \"votação por pluralidade\", o termo \"voto majoritário\" é mais amplamente usado na literatura. A distinção entre esses termos é que \"votação majoritária\" tecnicamente requer uma maioria de mais de 50%, o que funciona principalmente quando há apenas duas categorias. Quando você tem várias classes, por exemplo, quatro categorias, você não precisa necessariamente de 50% dos votos para fazer uma conclusão sobre uma classe; você poderia atribuir um rótulo de classe com mais de 25% de votos. A Universidade de Wisconsin-Madison resume isso bem com um exemplo aqui (link fora de ibm.com). Problemas de regressão usam um conceito semelhante ao problema de classificação, mas nesse caso, a média dos k vizinhos mais próximos é usada para fazer uma previsão sobre uma classificação. A principal distinção aqui é que a classificação é usada para valores discretos, enquanto a regressão é usada com valores contínuos. No entanto, antes que uma classificação possa ser feita, a distância precisa ser definida. A distância euclidiana é a mais comumente utilizada, sobre a qual vamos nos aprofundar mais abaixo.\\n\\n Também vale a pena notar que o algoritmo KNN faz parte de uma família de modelos de \"aprendizado preguiçoso\", o que significa que ele apenas armazena um conjunto de dados de treinamento, sem passar por uma fase de treinamento. Isso também significa que toda a computação ocorre quando uma classificação ou previsão está sendo feita. Como ele depende muito da memória para armazenar todos os seus dados de treinamento, também é referido como um método de aprendizado baseado em instância ou aprendizado baseado em memória.\\n\\n Evelyn Fix e Joseph Hodges são creditados pelas ideias iniciais em torno do modelo KNN neste artigo de 1951 (link fora de ibm.com), enquanto Thomas Cover expande esse conceito em sua pesquisa (link fora de ibm.com), \"Nearest Neighbor Pattern Classification\". Embora não seja tão popular quanto já foi, ainda é um dos primeiros algoritmos que se aprende em ciência de dados devido à sua simplicidade e precisão. No entanto, à medida que um conjunto de dados cresce, o KNN se torna cada vez mais ineficiente, comprometendo o desempenho geral do modelo. É comumente utilizado para sistemas de recomendação simples, reconhecimento de padrões, mineração de dados, previsões do mercado financeiro, detecção de intrusões e muito mais. Crie fluxos de trabalho de IA responsáveis com controle de IA Aprenda os fundamentos e as melhores práticas para ajudar suas equipes a acelerar a IA responsável. Registre-se para o white paper sobre governança de IA\\n\\nRecapitulando, o objetivo do algoritmo k-nearest neighbors (KNN) é identificar os vizinhos mais próximos de um determinado ponto de consulta, para que possamos atribuir uma classe a esse ponto. Para fazer isso, o KNN tem alguns requisitos: Para determinar quais pontos de dados estão mais próximos de um ponto de consulta específico, é necessário calcular a distância entre o ponto de consulta e os outros pontos de dados. Essas métricas de distância ajudam a formar limites de decisão, que particionam pontos de consulta em diferentes regiões. É comum visualizar esses limites de decisão com diagramas de Voronoi.\\n\\n \\n\\n Embora existam várias medidas de distância que você pode escolher, este artigo abordará apenas as seguintes: Distância Euclidiana (p=2): esta é a medida de distância mais comumente utilizada, sendo limitada a vetores com valores reais. Usando a fórmula abaixo, ela mede uma linha reta entre o ponto de consulta e o outro ponto sendo medido. Distância de Manhattan (p=1): esta é outra métrica de distância popular, que mede o valor absoluto entre dois pontos. Também é chamada de distância de táxi ou distância de quarteirão, pois geralmente é visualizada com uma grade, ilustrando como alguém poderia navegar de um endereço a outro pelas ruas da cidade. Distância de Minkowski: esta métrica de distância é a forma generalizada das métricas de distância euclidiana e de Manhattan. O parâmetro p, na fórmula abaixo, permite a criação de outras métricas de distância. A distância Euclidiana é representada por esta fórmula quando p é igual a dois, e a distância de Manhattan é denotada com p igual a um. Distância de Hamming: esta técnica é normalmente usada com vetores booleanos ou de strings, identificando os pontos onde os vetores não correspondem. Como resultado, também é conhecida como métrica de sobreposição. Isso pode ser representado com a seguinte fórmula: Por exemplo, se você tiver as seguintes strings, a distância de Hamming seria 2, já que apenas dois dos valores são diferentes.\\n\\nO valor de k no algoritmo k-NN define quantos vizinhos serão verificados para determinar a classificação de um ponto de consulta específico. Por exemplo, se k=1, a instância será atribuída à mesma classe que seu vizinho mais próximo. Definir k pode ser um ato de equilíbrio, pois diferentes valores podem levar a overfitting ou underfitting. Valores mais baixos de k podem ter alta variância, mas baixa tendência, e valores maiores de k podem levar a alta tendência e menor variância. A escolha de k dependerá amplamente dos dados de input, já que dados com mais outliers ou ruído provavelmente terão melhor desempenho com valores mais altos de k. No geral, recomenda-se um número ímpar para k, a fim de evitar empates na classificação, e táticas de validação cruzada podem ajudar a escolher o k ideal para seu conjunto de dados. Para se aprofundar, você pode aprender mais sobre o algoritmo k-NN usando Python e scikit-learn (também conhecido como sklearn). Nosso tutorial no Watson Studio ajuda você a aprender a sintaxe básica desta biblioteca, que também contém outras bibliotecas populares, como NumPy, pandas e Matplotlib. O código a seguir é um exemplo de como criar e prever com um modelo KNN:\\n\\nAplicações do K-NN em aprendizado de máquina O algoritmo k-NN tem sido utilizado em uma variedade de aplicações, principalmente dentro da classificação. Alguns desses casos de uso incluem: - Pré-processamento de dados: conjuntos de dados frequentemente têm valores ausentes, mas o algoritmo KNN pode estimar esses valores em um processo conhecido como imputação de dados ausentes. - Mecanismos de recomendação: usando dados de cliques de sites, o algoritmo KNN tem sido utilizado para fornecer recomendações automáticas aos usuários sobre conteúdo adicional. Esta pesquisa (link fora de ibm.com) mostra que o usuário é atribuído a um grupo específico e, com base no comportamento desse grupo, ele recebe uma recomendação. No entanto, dadas as questões de escalabilidade com o KNN, essa abordagem pode não ser ideal para grandes conjuntos de dados. - Finanças: o KNN também foi utilizado em uma variedade de casos de uso no setor financeiro e econômico. Por exemplo, um artigo (link fora de ibm.com) mostra como o uso de KNN em dados de crédito pode ajudar os bancos a avaliar o risco de um empréstimo para uma organização ou indivíduo. É utilizado para determinar a confiabilidade de crédito de um solicitante de empréstimo. Outro periódico (link fora de ibm.com) destaca seu uso na previsão do mercado de ações, taxas de câmbio, negociações de futuros e análises de lavagem de dinheiro. - Saúde: o KNN também teve aplicação no setor de saúde, fazendo previsões sobre o risco de ataques cardíacos e câncer de próstata. O algoritmo funciona calculando as expressões gênicas mais prováveis. - Reconhecimento de padrões: o KNN também ajudou a identificar padrões, como na classificação de texto e classificação de dígitos (link fora de ibm.com). Isso tem sido particularmente útil para identificar números manuscritos que você pode encontrar em formulários ou envelopes de correspondência.\\n\\nAssim como qualquer algoritmo de aprendizado de máquina, o k-NN tem seus pontos fortes e fracos. Dependendo do projeto e da aplicação, ele pode ou não ser a escolha certa. - Fácil de implementar: dada a simplicidade e precisão do algoritmo, ele é um dos primeiros classificadores que um novo cientista de dados aprenderá.\\n\\n - Adapta-se facilmente: à medida que novas amostras de treinamento são adicionadas, o algoritmo se ajusta para incluir os novos dados, uma vez que todos os dados de treinamento são armazenados na memória. - Poucos hiperparâmetros: o KNN requer apenas um valor de k e uma métrica de distância, o que é baixo em comparação com outros algoritmos de aprendizado de máquina. - Não escala bem: como o KNN é um algoritmo preguiçoso, ele consome mais memória e armazenamento de dados em comparação com outros classificadores. Isso pode ser caro do ponto de vista de tempo e dinheiro. Mais memória e armazenamento aumentam as despesas de negócios e mais dados podem demorar mais para serem processados. Embora diferentes estruturas de dados, como Ball-Tree, tenham sido criadas para resolver as ineficiências computacionais, um classificador diferente pode ser mais ideal, dependendo do problema de negócios. - Maldição da dimensionalidade: o algoritmo KNN tende a ser vítima da maldição da dimensionalidade, o que significa que ele não tem um bom desempenho com inputs de dados de alta dimensionalidade. Isso às vezes também é chamado de fenômeno de pico, onde, após o algoritmo atingir o número ideal de funcionalidades, a adição de mais delas aumenta a quantidade de erros de classificação, especialmente quando o tamanho da amostra é menor. - Propensão ao overfitting: devido à \"maldição da dimensionalidade\", o KNN também possui mais propensão ao overfitting. Enquanto técnicas de seleção de características e redução de dimensionalidade são utilizadas para evitar que isso ocorra, o valor de k também pode impactar o comportamento do modelo. Valores menores de k podem causar overfitting nos dados, enquanto valores maiores de k tendem a \"suavizar\" os valores de previsão, uma vez que trata-se da média dos valores em uma área maior, ou vizinhança. No entanto, se o valor de k for muito alto, pode ocorrer underfitting nos dados.'"
            ],
            "application/vnd.google.colaboratory.intrinsic+json": {
              "type": "string"
            }
          },
          "metadata": {},
          "execution_count": 39
        }
      ]
    },
    {
      "cell_type": "code",
      "source": [
        "artigo_formatado = preprocessamento(artigo_original)\n",
        "artigo_formatado"
      ],
      "metadata": {
        "colab": {
          "base_uri": "https://localhost:8080/",
          "height": 140
        },
        "id": "ps7QB-Q9TjcZ",
        "outputId": "be1b4cb2-b894-4b2d-94ea-e51c6a24c568"
      },
      "execution_count": 40,
      "outputs": [
        {
          "output_type": "execute_result",
          "data": {
            "text/plain": [
              "\"algoritmo knn algoritmo k-nearest neighbors knn k vizinhos próximos classificador supervisionado paramétrico usa proximidade fazer classificações previsões sobre agrupamento ponto dados individual classificadores populares simples usados aprendizado máquina atualmente embora algoritmo knn possa usado problemas regressão classificação tipicamente utilizado algoritmo classificação partindo pressuposto pontos semelhantes podem encontrados próximos uns outros problemas classificação rótulo classe atribuído base votação majoritária rótulo frequentemente representado torno dado ponto dados utilizado embora tecnicamente considerado `` votação pluralidade '' termo `` voto majoritário '' amplamente usado literatura distinção termos `` votação majoritária '' tecnicamente requer maioria funciona principalmente apenas duas categorias várias classes exemplo quatro categorias precisa necessariamente votos fazer conclusão sobre classe poderia atribuir rótulo classe votos universidade wisconsin-madison resume bem exemplo aqui link ibm.com problemas regressão usam conceito semelhante problema classificação nesse caso média k vizinhos próximos usada fazer previsão sobre classificação principal distinção aqui classificação usada valores discretos enquanto regressão usada valores contínuos entanto antes classificação possa feita distância precisa definida distância euclidiana comumente utilizada sobre vamos aprofundar abaixo vale pena notar algoritmo knn faz parte família modelos `` aprendizado preguiçoso '' significa apenas armazena conjunto dados treinamento passar fase treinamento significa toda computação ocorre classificação previsão sendo feita depende memória armazenar todos dados treinamento referido método aprendizado baseado instância aprendizado baseado memória evelyn fix joseph hodges creditados ideias iniciais torno modelo knn neste artigo link ibm.com enquanto thomas cover expande conceito pesquisa link ibm.com `` nearest neighbor pattern classification '' embora tão popular quanto ainda primeiros algoritmos aprende ciência dados devido simplicidade precisão entanto medida conjunto dados cresce knn torna cada vez ineficiente comprometendo desempenho geral modelo comumente utilizado sistemas recomendação simples reconhecimento padrões mineração dados previsões mercado financeiro detecção intrusões crie fluxos trabalho ia responsáveis controle ia aprenda fundamentos melhores práticas ajudar equipes acelerar ia responsável registre-se white paper sobre governança ia recapitulando objetivo algoritmo k-nearest neighbors knn identificar vizinhos próximos determinado ponto consulta possamos atribuir classe ponto fazer knn alguns requisitos determinar quais pontos dados próximos ponto consulta específico necessário calcular distância ponto consulta outros pontos dados métricas distância ajudam formar limites decisão particionam pontos consulta diferentes regiões comum visualizar limites decisão diagramas voronoi embora existam várias medidas distância pode escolher artigo abordará apenas seguintes distância euclidiana p=2 medida distância comumente utilizada sendo limitada vetores valores reais usando fórmula abaixo mede linha reta ponto consulta outro ponto sendo medido distância manhattan p=1 outra métrica distância popular mede valor absoluto dois pontos chamada distância táxi distância quarteirão pois geralmente visualizada grade ilustrando alguém poderia navegar endereço outro ruas cidade distância minkowski métrica distância forma generalizada métricas distância euclidiana manhattan parâmetro p fórmula abaixo permite criação outras métricas distância distância euclidiana representada fórmula p igual dois distância manhattan denotada p igual distância hamming técnica normalmente usada vetores booleanos strings identificando pontos onde vetores correspondem resultado conhecida métrica sobreposição pode representado seguinte fórmula exemplo seguintes strings distância hamming apenas dois valores diferentes valor k algoritmo k-nn define quantos vizinhos verificados determinar classificação ponto consulta específico exemplo k=1 instância atribuída mesma classe vizinho próximo definir k pode ato equilíbrio pois diferentes valores podem levar overfitting underfitting valores baixos k podem ter alta variância baixa tendência valores maiores k podem levar alta tendência menor variância escolha k dependerá amplamente dados input dados outliers ruído provavelmente melhor desempenho valores altos k. geral recomenda-se número ímpar k fim evitar empates classificação táticas validação cruzada podem ajudar escolher k ideal conjunto dados aprofundar pode aprender sobre algoritmo k-nn usando python scikit-learn conhecido sklearn tutorial watson studio ajuda aprender sintaxe básica desta biblioteca contém outras bibliotecas populares numpy pandas matplotlib código seguir exemplo criar prever modelo knn aplicações k-nn aprendizado máquina algoritmo k-nn sido utilizado variedade aplicações principalmente dentro classificação alguns desses casos uso incluem pré-processamento dados conjuntos dados frequentemente têm valores ausentes algoritmo knn pode estimar valores processo conhecido imputação dados ausentes mecanismos recomendação usando dados cliques sites algoritmo knn sido utilizado fornecer recomendações automáticas usuários sobre conteúdo adicional pesquisa link ibm.com mostra usuário atribuído grupo específico base comportamento desse grupo recebe recomendação entanto dadas questões escalabilidade knn abordagem pode ideal grandes conjuntos dados finanças knn utilizado variedade casos uso setor financeiro econômico exemplo artigo link ibm.com mostra uso knn dados crédito pode ajudar bancos avaliar risco empréstimo organização indivíduo utilizado determinar confiabilidade crédito solicitante empréstimo outro periódico link ibm.com destaca uso previsão mercado ações taxas câmbio negociações futuros análises lavagem dinheiro saúde knn aplicação setor saúde fazendo previsões sobre risco ataques cardíacos câncer próstata algoritmo funciona calculando expressões gênicas prováveis reconhecimento padrões knn ajudou identificar padrões classificação texto classificação dígitos link ibm.com sido particularmente útil identificar números manuscritos pode encontrar formulários envelopes correspondência assim qualquer algoritmo aprendizado máquina k-nn pontos fortes fracos dependendo projeto aplicação pode escolha certa fácil implementar dada simplicidade precisão algoritmo primeiros classificadores novo cientista dados aprenderá adapta-se facilmente medida novas amostras treinamento adicionadas algoritmo ajusta incluir novos dados vez todos dados treinamento armazenados memória poucos hiperparâmetros knn requer apenas valor k métrica distância baixo comparação outros algoritmos aprendizado máquina escala bem knn algoritmo preguiçoso consome memória armazenamento dados comparação outros classificadores pode caro ponto vista tempo dinheiro memória armazenamento aumentam despesas negócios dados podem demorar serem processados embora diferentes estruturas dados ball-tree sido criadas resolver ineficiências computacionais classificador diferente pode ideal dependendo problema negócios maldição dimensionalidade algoritmo knn tende vítima maldição dimensionalidade significa bom desempenho inputs dados alta dimensionalidade vezes chamado fenômeno pico onde após algoritmo atingir número ideal funcionalidades adição aumenta quantidade erros classificação especialmente tamanho amostra menor propensão overfitting devido `` maldição dimensionalidade '' knn possui propensão overfitting enquanto técnicas seleção características redução dimensionalidade utilizadas evitar ocorra valor k pode impactar comportamento modelo valores menores k podem causar overfitting dados enquanto valores maiores k tendem `` suavizar '' valores previsão vez trata-se média valores área maior vizinhança entanto valor k alto pode ocorrer underfitting dados\""
            ],
            "application/vnd.google.colaboratory.intrinsic+json": {
              "type": "string"
            }
          },
          "metadata": {},
          "execution_count": 40
        }
      ]
    },
    {
      "cell_type": "code",
      "source": [
        "len(artigo_formatado)"
      ],
      "metadata": {
        "colab": {
          "base_uri": "https://localhost:8080/"
        },
        "id": "oiWcWpfaTmkA",
        "outputId": "1db48610-f415-4e44-b283-268e34403272"
      },
      "execution_count": 41,
      "outputs": [
        {
          "output_type": "execute_result",
          "data": {
            "text/plain": [
              "7933"
            ]
          },
          "metadata": {},
          "execution_count": 41
        }
      ]
    },
    {
      "cell_type": "code",
      "source": [
        "def sumarizar(texto, quantidade_sentencas):\n",
        "  texto_original = texto\n",
        "  texto_formatado = preprocessamento(texto_original)\n",
        "\n",
        "  frequencia_palavras = nltk.FreqDist(nltk.word_tokenize(texto_formatado))\n",
        "  frequencia_maxima = max(frequencia_palavras.values())\n",
        "  for palavra in frequencia_palavras.keys():\n",
        "    frequencia_palavras[palavra] = (frequencia_palavras[palavra] / frequencia_maxima)\n",
        "  lista_sentencas = nltk.sent_tokenize(texto_original)\n",
        "\n",
        "  nota_sentencas = {}\n",
        "  for sentenca in lista_sentencas:\n",
        "    for palavra in nltk.word_tokenize(sentenca):\n",
        "      if palavra in frequencia_palavras.keys():\n",
        "        if sentenca not in nota_sentencas.keys():\n",
        "          nota_sentencas[sentenca] = frequencia_palavras[palavra]\n",
        "        else:\n",
        "          nota_sentencas[sentenca] += frequencia_palavras[palavra]\n",
        "\n",
        "  import heapq\n",
        "  melhores_sentencas = heapq.nlargest(quantidade_sentencas, nota_sentencas, key=nota_sentencas.get)\n",
        "\n",
        "  return lista_sentencas, melhores_sentencas, frequencia_palavras, nota_sentencas"
      ],
      "metadata": {
        "id": "HiF9onUcTpHY"
      },
      "execution_count": 42,
      "outputs": []
    },
    {
      "cell_type": "code",
      "source": [
        "lista_sentencas, melhores_sentencas, frequencia_palavras, nota_sentencas = sumarizar(artigo_original, 5)\n",
        "lista_sentencas, len(lista_sentencas)"
      ],
      "metadata": {
        "id": "f8IHQe9pTxVC"
      },
      "execution_count": 43,
      "outputs": []
    },
    {
      "cell_type": "code",
      "source": [
        "melhores_sentencas"
      ],
      "metadata": {
        "id": "r6cei-ECT9cj"
      },
      "execution_count": null,
      "outputs": []
    },
    {
      "cell_type": "code",
      "source": [
        "frequencia_palavras"
      ],
      "metadata": {
        "colab": {
          "base_uri": "https://localhost:8080/"
        },
        "id": "_YDEsmiFT_UU",
        "outputId": "39a47d30-fe18-4729-bccb-8a771f90c273"
      },
      "execution_count": 46,
      "outputs": [
        {
          "output_type": "execute_result",
          "data": {
            "text/plain": [
              "FreqDist({'dados': 1.0, 'knn': 0.7407407407407407, 'distância': 0.7407407407407407, 'algoritmo': 0.6666666666666666, 'k': 0.5185185185185185, 'classificação': 0.5185185185185185, '``': 0.5185185185185185, 'valores': 0.5185185185185185, 'pode': 0.48148148148148145, 'ponto': 0.37037037037037035, ...})"
            ]
          },
          "metadata": {},
          "execution_count": 46
        }
      ]
    },
    {
      "cell_type": "code",
      "source": [
        "nota_sentencas"
      ],
      "metadata": {
        "id": "FV3tmfCKUA_7"
      },
      "execution_count": null,
      "outputs": []
    },
    {
      "cell_type": "code",
      "source": [
        "def visualiza_resumo(titulo, lista_sentencas, melhores_sentencas):\n",
        "  from IPython.core.display import HTML\n",
        "  texto = ''\n",
        "\n",
        "  display(HTML(f'<h1>Resumo do texto - {titulo}</h1>'))\n",
        "  for i in lista_sentencas:\n",
        "    if i in melhores_sentencas:\n",
        "      texto += str(i).replace(i, f\"<mark>{i}</mark>\")\n",
        "    else:\n",
        "      texto += i\n",
        "  display(HTML(f\"\"\" {texto} \"\"\"))\n",
        "\n",
        "visualiza_resumo('knn', lista_sentencas, melhores_sentencas)"
      ],
      "metadata": {
        "id": "JZkK9bR4UDib"
      },
      "execution_count": null,
      "outputs": []
    }
  ]
}